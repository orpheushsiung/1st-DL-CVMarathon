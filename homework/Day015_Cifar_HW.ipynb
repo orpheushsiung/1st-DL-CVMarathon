{
 "cells": [
  {
   "cell_type": "markdown",
   "metadata": {},
   "source": [
    "## 『本次練習內容』\n",
    "#### 運用這幾天所學觀念搭建一個CNN分類器"
   ]
  },
  {
   "cell_type": "markdown",
   "metadata": {},
   "source": [
    "## 『本次練習目的』\n",
    "  #### 熟悉CNN分類器搭建步驟與原理\n",
    "  #### 學員們可以嘗試不同搭法，如使用不同的Maxpooling層，用GlobalAveragePooling取代Flatten等等"
   ]
  },
  {
   "cell_type": "code",
   "execution_count": 9,
   "metadata": {},
   "outputs": [],
   "source": [
    "from keras.models import Sequential\n",
    "from keras.layers import Convolution2D\n",
    "from keras.layers import MaxPooling2D\n",
    "from keras.layers import Flatten\n",
    "from keras.layers import Dense\n",
    "from keras.layers import Dropout\n",
    "from keras.layers import BatchNormalization\n",
    "from keras.datasets import cifar10\n",
    "import numpy as np\n",
    "import tensorflow as tf\n",
    "from sklearn.preprocessing import OneHotEncoder\n"
   ]
  },
  {
   "cell_type": "code",
   "execution_count": 10,
   "metadata": {},
   "outputs": [
    {
     "name": "stdout",
     "output_type": "stream",
     "text": [
      "(50000, 32, 32, 3)\n"
     ]
    }
   ],
   "source": [
    "(x_train, y_train), (x_test, y_test) = cifar10.load_data()\n",
    "\n",
    "print(x_train.shape) #(50000, 32, 32, 3)\n",
    "\n",
    "## Normalize Data\n",
    "def normalize(X_train,X_test):\n",
    "        mean = np.mean(X_train,axis=(0,1,2,3))\n",
    "        std = np.std(X_train, axis=(0, 1, 2, 3))\n",
    "        X_train = (X_train-mean)/(std+1e-7)\n",
    "        X_test = (X_test-mean)/(std+1e-7) \n",
    "        return X_train, X_test,mean,std\n",
    "    \n",
    "    \n",
    "## Normalize Training and Testset    \n",
    "x_train, x_test,mean_train,std_train = normalize(x_train, x_test) "
   ]
  },
  {
   "cell_type": "code",
   "execution_count": 11,
   "metadata": {},
   "outputs": [
    {
     "name": "stderr",
     "output_type": "stream",
     "text": [
      "C:\\Users\\Orpheus\\Anaconda3\\envs\\tensorflow-gpu\\lib\\site-packages\\sklearn\\preprocessing\\_encoders.py:415: FutureWarning: The handling of integer data will change in version 0.22. Currently, the categories are determined based on the range [0, max(values)], while in the future they will be determined based on the unique values.\n",
      "If you want the future behaviour and silence this warning, you can specify \"categories='auto'\".\n",
      "In case you used a LabelEncoder before this OneHotEncoder to convert the categories to integers, then you can now use the OneHotEncoder directly.\n",
      "  warnings.warn(msg, FutureWarning)\n"
     ]
    }
   ],
   "source": [
    "## OneHot Label 由(None, 1)-(None, 10)\n",
    "## ex. label=2,變成[0,0,1,0,0,0,0,0,0,0]\n",
    "one_hot=OneHotEncoder()\n",
    "y_train=one_hot.fit_transform(y_train).toarray()\n",
    "y_test=one_hot.transform(y_test).toarray()"
   ]
  },
  {
   "cell_type": "code",
   "execution_count": 12,
   "metadata": {
    "scrolled": false
   },
   "outputs": [
    {
     "name": "stderr",
     "output_type": "stream",
     "text": [
      "C:\\Users\\Orpheus\\Anaconda3\\envs\\tensorflow-gpu\\lib\\site-packages\\ipykernel_launcher.py:18: UserWarning: Update your `Dense` call to the Keras 2 API: `Dense(activation=\"relu\", units=100)`\n",
      "C:\\Users\\Orpheus\\Anaconda3\\envs\\tensorflow-gpu\\lib\\site-packages\\ipykernel_launcher.py:21: UserWarning: Update your `Dense` call to the Keras 2 API: `Dense(activation=\"relu\", units=10)`\n"
     ]
    },
    {
     "name": "stdout",
     "output_type": "stream",
     "text": [
      "Epoch 1/100\n",
      "50000/50000 [==============================] - 44s 879us/step - loss: 2.4662 - accuracy: 0.2095\n",
      "Epoch 2/100\n",
      "50000/50000 [==============================] - 47s 931us/step - loss: 2.0486 - accuracy: 0.2888\n",
      "Epoch 3/100\n",
      "50000/50000 [==============================] - 46s 916us/step - loss: 1.9921 - accuracy: 0.2972\n",
      "Epoch 4/100\n",
      "50000/50000 [==============================] - 46s 916us/step - loss: 1.8567 - accuracy: 0.3573\n",
      "Epoch 5/100\n",
      "50000/50000 [==============================] - 46s 911us/step - loss: 1.7263 - accuracy: 0.4173\n",
      "Epoch 6/100\n",
      "50000/50000 [==============================] - 46s 916us/step - loss: 1.7337 - accuracy: 0.4277\n",
      "Epoch 7/100\n",
      "50000/50000 [==============================] - 46s 916us/step - loss: 1.7632 - accuracy: 0.3846\n",
      "Epoch 8/100\n",
      "50000/50000 [==============================] - 46s 917us/step - loss: 1.7202 - accuracy: 0.4298\n",
      "Epoch 9/100\n",
      "50000/50000 [==============================] - 46s 919us/step - loss: 1.7041 - accuracy: 0.4423\n",
      "Epoch 10/100\n",
      "50000/50000 [==============================] - 46s 919us/step - loss: 1.7779 - accuracy: 0.4208\n",
      "Epoch 11/100\n",
      "50000/50000 [==============================] - 46s 921us/step - loss: 1.6908 - accuracy: 0.4208\n",
      "Epoch 12/100\n",
      "50000/50000 [==============================] - 46s 921us/step - loss: 1.5637 - accuracy: 0.4825\n",
      "Epoch 13/100\n",
      "50000/50000 [==============================] - 46s 920us/step - loss: 1.5346 - accuracy: 0.5079\n",
      "Epoch 14/100\n",
      "50000/50000 [==============================] - 46s 919us/step - loss: 1.6846 - accuracy: 0.4693\n",
      "Epoch 15/100\n",
      "50000/50000 [==============================] - 46s 921us/step - loss: 1.8928 - accuracy: 0.3222\n",
      "Epoch 16/100\n",
      "50000/50000 [==============================] - 46s 923us/step - loss: 1.7493 - accuracy: 0.3969\n",
      "Epoch 17/100\n",
      "50000/50000 [==============================] - 46s 920us/step - loss: 1.7110 - accuracy: 0.4306\n",
      "Epoch 18/100\n",
      "50000/50000 [==============================] - 46s 924us/step - loss: 1.7663 - accuracy: 0.3996\n",
      "Epoch 19/100\n",
      "50000/50000 [==============================] - 46s 924us/step - loss: 1.9771 - accuracy: 0.3158\n",
      "Epoch 20/100\n",
      "50000/50000 [==============================] - 46s 923us/step - loss: 1.7779 - accuracy: 0.3915s - loss:\n",
      "Epoch 21/100\n",
      "50000/50000 [==============================] - 46s 925us/step - loss: 1.6821 - accuracy: 0.4426\n",
      "Epoch 22/100\n",
      "50000/50000 [==============================] - 46s 922us/step - loss: 1.6061 - accuracy: 0.4823\n",
      "Epoch 23/100\n",
      "50000/50000 [==============================] - 46s 924us/step - loss: 1.5546 - accuracy: 0.5022\n",
      "Epoch 24/100\n",
      "50000/50000 [==============================] - 46s 922us/step - loss: 1.5114 - accuracy: 0.5138\n",
      "Epoch 25/100\n",
      "50000/50000 [==============================] - 46s 926us/step - loss: 1.5472 - accuracy: 0.4999\n",
      "Epoch 26/100\n",
      "50000/50000 [==============================] - 46s 924us/step - loss: 1.6499 - accuracy: 0.4460\n",
      "Epoch 27/100\n",
      "50000/50000 [==============================] - 46s 922us/step - loss: 1.6549 - accuracy: 0.4488\n",
      "Epoch 28/100\n",
      "50000/50000 [==============================] - 46s 924us/step - loss: 1.5623 - accuracy: 0.4918\n",
      "Epoch 29/100\n",
      "50000/50000 [==============================] - 46s 925us/step - loss: 1.5369 - accuracy: 0.4964\n",
      "Epoch 30/100\n",
      "50000/50000 [==============================] - 46s 923us/step - loss: 1.4485 - accuracy: 0.5320\n",
      "Epoch 31/100\n",
      "50000/50000 [==============================] - 46s 925us/step - loss: 1.3939 - accuracy: 0.5492\n",
      "Epoch 32/100\n",
      "50000/50000 [==============================] - 46s 925us/step - loss: 1.4259 - accuracy: 0.5345\n",
      "Epoch 33/100\n",
      "50000/50000 [==============================] - 46s 927us/step - loss: 1.5988 - accuracy: 0.4864\n",
      "Epoch 34/100\n",
      "50000/50000 [==============================] - 46s 923us/step - loss: 1.4408 - accuracy: 0.5351\n",
      "Epoch 35/100\n",
      "50000/50000 [==============================] - 46s 928us/step - loss: 1.5940 - accuracy: 0.4848\n",
      "Epoch 36/100\n",
      "50000/50000 [==============================] - 46s 927us/step - loss: 1.5586 - accuracy: 0.4950\n",
      "Epoch 37/100\n",
      "50000/50000 [==============================] - 47s 932us/step - loss: 1.4667 - accuracy: 0.5289\n",
      "Epoch 38/100\n",
      "50000/50000 [==============================] - 47s 930us/step - loss: 1.4711 - accuracy: 0.5248s - loss: 1.4711 - accuracy\n",
      "Epoch 39/100\n",
      "50000/50000 [==============================] - 47s 931us/step - loss: 1.3979 - accuracy: 0.5522\n",
      "Epoch 40/100\n",
      "50000/50000 [==============================] - 47s 931us/step - loss: 1.3462 - accuracy: 0.5682\n",
      "Epoch 41/100\n",
      "50000/50000 [==============================] - 47s 932us/step - loss: 1.3280 - accuracy: 0.5729\n",
      "Epoch 42/100\n",
      "50000/50000 [==============================] - 47s 932us/step - loss: 1.3186 - accuracy: 0.5741\n",
      "Epoch 43/100\n",
      "50000/50000 [==============================] - 47s 936us/step - loss: 1.2654 - accuracy: 0.5912\n",
      "Epoch 44/100\n",
      "50000/50000 [==============================] - 47s 933us/step - loss: 1.4720 - accuracy: 0.5302\n",
      "Epoch 45/100\n",
      "50000/50000 [==============================] - 47s 930us/step - loss: 1.2930 - accuracy: 0.5858\n",
      "Epoch 46/100\n",
      "50000/50000 [==============================] - 46s 929us/step - loss: 1.2652 - accuracy: 0.5909\n",
      "Epoch 47/100\n",
      "50000/50000 [==============================] - 47s 930us/step - loss: 1.3881 - accuracy: 0.5570\n",
      "Epoch 48/100\n",
      "50000/50000 [==============================] - 47s 931us/step - loss: 1.3446 - accuracy: 0.5702\n",
      "Epoch 49/100\n",
      "50000/50000 [==============================] - 46s 929us/step - loss: 1.2608 - accuracy: 0.5989\n",
      "Epoch 50/100\n",
      "50000/50000 [==============================] - 46s 927us/step - loss: 1.3645 - accuracy: 0.5566\n",
      "Epoch 51/100\n",
      "50000/50000 [==============================] - 47s 935us/step - loss: 1.2305 - accuracy: 0.6011s - loss: 1.231\n",
      "Epoch 52/100\n",
      "50000/50000 [==============================] - 47s 931us/step - loss: 1.3381 - accuracy: 0.5752\n",
      "Epoch 53/100\n",
      "50000/50000 [==============================] - 46s 929us/step - loss: 1.2248 - accuracy: 0.6083\n",
      "Epoch 54/100\n",
      "50000/50000 [==============================] - 46s 925us/step - loss: 1.4139 - accuracy: 0.5551\n",
      "Epoch 55/100\n",
      "50000/50000 [==============================] - 46s 930us/step - loss: 1.5651 - accuracy: 0.5034\n",
      "Epoch 56/100\n",
      "50000/50000 [==============================] - 46s 927us/step - loss: 1.4689 - accuracy: 0.5281s - loss: 1\n",
      "Epoch 57/100\n",
      "50000/50000 [==============================] - 47s 932us/step - loss: 1.4683 - accuracy: 0.5256\n",
      "Epoch 58/100\n",
      "50000/50000 [==============================] - 47s 933us/step - loss: 1.3548 - accuracy: 0.5571\n",
      "Epoch 59/100\n",
      "50000/50000 [==============================] - 46s 925us/step - loss: 1.3156 - accuracy: 0.5730\n",
      "Epoch 60/100\n",
      "50000/50000 [==============================] - 47s 931us/step - loss: 1.3320 - accuracy: 0.5767\n",
      "Epoch 61/100\n",
      "50000/50000 [==============================] - 47s 930us/step - loss: 1.2346 - accuracy: 0.6017\n",
      "Epoch 62/100\n",
      "50000/50000 [==============================] - 46s 929us/step - loss: 1.6016 - accuracy: 0.4976\n",
      "Epoch 63/100\n",
      "50000/50000 [==============================] - 47s 933us/step - loss: 1.3306 - accuracy: 0.5592\n",
      "Epoch 64/100\n",
      "50000/50000 [==============================] - 47s 932us/step - loss: 1.5669 - accuracy: 0.4873\n",
      "Epoch 65/100\n",
      "50000/50000 [==============================] - 47s 930us/step - loss: 1.4872 - accuracy: 0.5059\n",
      "Epoch 66/100\n",
      "50000/50000 [==============================] - 46s 929us/step - loss: 1.4013 - accuracy: 0.5354\n",
      "Epoch 67/100\n",
      "50000/50000 [==============================] - 47s 931us/step - loss: 1.3842 - accuracy: 0.5481\n",
      "Epoch 68/100\n",
      "50000/50000 [==============================] - 47s 931us/step - loss: 1.3290 - accuracy: 0.5628\n",
      "Epoch 69/100\n",
      "50000/50000 [==============================] - 47s 930us/step - loss: 1.2701 - accuracy: 0.5815\n",
      "Epoch 70/100\n",
      "50000/50000 [==============================] - 47s 933us/step - loss: 1.2521 - accuracy: 0.5862\n",
      "Epoch 71/100\n",
      "50000/50000 [==============================] - 47s 930us/step - loss: 1.2343 - accuracy: 0.5947\n",
      "Epoch 72/100\n",
      "50000/50000 [==============================] - 46s 929us/step - loss: 1.1886 - accuracy: 0.6099\n",
      "Epoch 73/100\n",
      "50000/50000 [==============================] - 47s 935us/step - loss: 1.2448 - accuracy: 0.6024\n",
      "Epoch 74/100\n",
      "50000/50000 [==============================] - 47s 933us/step - loss: 1.1779 - accuracy: 0.6173s - loss: 1.1\n",
      "Epoch 75/100\n"
     ]
    },
    {
     "name": "stdout",
     "output_type": "stream",
     "text": [
      "50000/50000 [==============================] - 46s 917us/step - loss: 1.1540 - accuracy: 0.6237\n",
      "Epoch 76/100\n",
      "50000/50000 [==============================] - 46s 917us/step - loss: 1.1825 - accuracy: 0.6148\n",
      "Epoch 77/100\n",
      "50000/50000 [==============================] - 46s 917us/step - loss: 1.1311 - accuracy: 0.6276\n",
      "Epoch 78/100\n",
      "50000/50000 [==============================] - 46s 917us/step - loss: 1.2187 - accuracy: 0.6108\n",
      "Epoch 79/100\n",
      "50000/50000 [==============================] - 46s 915us/step - loss: 1.2354 - accuracy: 0.6062\n",
      "Epoch 80/100\n",
      "50000/50000 [==============================] - 46s 912us/step - loss: 1.1252 - accuracy: 0.6358\n",
      "Epoch 81/100\n",
      "50000/50000 [==============================] - 46s 917us/step - loss: 1.1136 - accuracy: 0.6371\n",
      "Epoch 82/100\n",
      "50000/50000 [==============================] - 46s 916us/step - loss: 1.1410 - accuracy: 0.6250\n",
      "Epoch 83/100\n",
      "50000/50000 [==============================] - 46s 916us/step - loss: 1.1038 - accuracy: 0.6378\n",
      "Epoch 84/100\n",
      "50000/50000 [==============================] - 45s 905us/step - loss: 1.1162 - accuracy: 0.6446\n",
      "Epoch 85/100\n",
      "50000/50000 [==============================] - 45s 905us/step - loss: 1.0671 - accuracy: 0.6500\n",
      "Epoch 86/100\n",
      "50000/50000 [==============================] - 45s 907us/step - loss: 1.2808 - accuracy: 0.6195\n",
      "Epoch 87/100\n",
      "50000/50000 [==============================] - 45s 907us/step - loss: 1.3231 - accuracy: 0.5685\n",
      "Epoch 88/100\n",
      "50000/50000 [==============================] - 45s 902us/step - loss: 1.1492 - accuracy: 0.6227\n",
      "Epoch 89/100\n",
      "50000/50000 [==============================] - 45s 904us/step - loss: 1.1115 - accuracy: 0.6373\n",
      "Epoch 90/100\n",
      "50000/50000 [==============================] - 45s 905us/step - loss: 1.0705 - accuracy: 0.6509\n",
      "Epoch 91/100\n",
      "50000/50000 [==============================] - 45s 905us/step - loss: 1.1225 - accuracy: 0.6410\n",
      "Epoch 92/100\n",
      "50000/50000 [==============================] - 45s 906us/step - loss: 1.0630 - accuracy: 0.6507\n",
      "Epoch 93/100\n",
      "50000/50000 [==============================] - 45s 906us/step - loss: 0.9991 - accuracy: 0.6733\n",
      "Epoch 94/100\n",
      "50000/50000 [==============================] - 45s 908us/step - loss: 1.1075 - accuracy: 0.6504\n",
      "Epoch 95/100\n",
      "50000/50000 [==============================] - 45s 908us/step - loss: 1.0254 - accuracy: 0.6685\n",
      "Epoch 96/100\n",
      "50000/50000 [==============================] - 45s 909us/step - loss: 1.0104 - accuracy: 0.6702\n",
      "Epoch 97/100\n",
      "50000/50000 [==============================] - 45s 901us/step - loss: nan - accuracy: 0.4377\n",
      "Epoch 98/100\n",
      "50000/50000 [==============================] - 45s 891us/step - loss: nan - accuracy: 0.1000\n",
      "Epoch 99/100\n",
      "50000/50000 [==============================] - 44s 890us/step - loss: nan - accuracy: 0.1000\n",
      "Epoch 100/100\n",
      "50000/50000 [==============================] - 45s 894us/step - loss: nan - accuracy: 0.1000\n"
     ]
    },
    {
     "data": {
      "text/plain": [
       "<keras.callbacks.callbacks.History at 0x26b1f904488>"
      ]
     },
     "execution_count": 12,
     "metadata": {},
     "output_type": "execute_result"
    }
   ],
   "source": [
    "\n",
    "classifier=Sequential()\n",
    "\n",
    "#卷積組合\n",
    "classifier.add(Convolution2D(32, kernel_size=(3, 3), input_shape=(32,32,3), activation='relu'))#32,3,3,input_shape=(32,32,3),activation='relu''\n",
    "classifier.add(BatchNormalization(momentum=0.99, epsilon=0.01))\n",
    "\n",
    "'''自己決定MaxPooling2D放在哪裡'''\n",
    "classifier.add(MaxPooling2D(pool_size=(2,2)))\n",
    "\n",
    "#卷積組合\n",
    "classifier.add(Convolution2D(32, kernel_size=(3, 3), input_shape=(32,32,3), activation='relu'))\n",
    "classifier.add(BatchNormalization(momentum=0.99, epsilon=0.001))\n",
    "\n",
    "#flatten\n",
    "classifier.add(Flatten())\n",
    "\n",
    "#FC\n",
    "classifier.add(Dense(output_dim=100, activation='relu')) #output_dim=100,activation=relu\n",
    "\n",
    "#輸出\n",
    "classifier.add(Dense(output_dim=10,activation='relu'))\n",
    "\n",
    "#超過兩個就要選categorical_crossentrophy\n",
    "classifier.compile(optimizer = 'adam', loss = 'categorical_crossentropy', metrics = ['accuracy'])\n",
    "classifier.fit(x_train,y_train,batch_size=100,epochs=100)"
   ]
  },
  {
   "cell_type": "markdown",
   "metadata": {},
   "source": [
    "## 預測新圖片，輸入影像前處理要與訓練時相同\n",
    "#### ((X-mean)/(std+1e-7) ):這裡的mean跟std是訓練集的\n",
    "## 維度如下方示範"
   ]
  },
  {
   "cell_type": "code",
   "execution_count": 13,
   "metadata": {},
   "outputs": [
    {
     "data": {
      "text/plain": [
       "array([[nan, nan, nan, nan, nan, nan, nan, nan, nan, nan]], dtype=float32)"
      ]
     },
     "execution_count": 13,
     "metadata": {},
     "output_type": "execute_result"
    }
   ],
   "source": [
    "input_example=(np.zeros(shape=(1,32,32,3))-mean_train)/(std_train+1e-7) \n",
    "classifier.predict(input_example)"
   ]
  },
  {
   "cell_type": "code",
   "execution_count": null,
   "metadata": {},
   "outputs": [],
   "source": []
  }
 ],
 "metadata": {
  "kernelspec": {
   "display_name": "Python 3",
   "language": "python",
   "name": "python3"
  },
  "language_info": {
   "codemirror_mode": {
    "name": "ipython",
    "version": 3
   },
   "file_extension": ".py",
   "mimetype": "text/x-python",
   "name": "python",
   "nbconvert_exporter": "python",
   "pygments_lexer": "ipython3",
   "version": "3.7.4"
  }
 },
 "nbformat": 4,
 "nbformat_minor": 2
}
